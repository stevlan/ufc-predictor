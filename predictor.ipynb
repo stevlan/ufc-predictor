{
 "cells": [
  {
   "cell_type": "code",
   "execution_count": 1,
   "metadata": {},
   "outputs": [],
   "source": [
    "from sklearn.linear_model import LogisticRegression\n",
    "from sklearn.model_selection import train_test_split\n",
    "import pandas as pd\n",
    "from sklearn.ensemble import RandomForestClassifier\n",
    "from sklearn.svm import SVC\n",
    "from sklearn.ensemble import GradientBoostingClassifier\n"
   ]
  },
  {
   "cell_type": "code",
   "execution_count": 2,
   "metadata": {},
   "outputs": [],
   "source": [
    "data = pd.read_csv(\"differentials.csv\")\n",
    "X = data[[\"Reach (inches) Differential\", \"Height (inches) Differential\", \"Significant Strikes Landed per Minute Differential\", \"Significant Striking Accuracy Differential\", \n",
    "         \"Significant Strikes Absorbed per Minute Differential\", \"Significant Strike Defence (the percentage of opponents strikes that did not land) Differential\",\n",
    "         \"Average Takedowns Landed per 15 minutes Differential\", \"Takedown Accuracy Differential\", \"Takedown Defense (the percentage of opponents TD attempts that did not land) Differential\",\n",
    "         \"Average Submissions Attempted per 15 minutes\"]]\n",
    "Y = data[\"Winner\"]\n",
    "X_train, X_test, Y_train, Y_test = train_test_split(X, Y, test_size=0.2)"
   ]
  },
  {
   "cell_type": "code",
   "execution_count": 3,
   "metadata": {},
   "outputs": [
    {
     "data": {
      "text/plain": [
       "0.6555716353111433"
      ]
     },
     "execution_count": 3,
     "metadata": {},
     "output_type": "execute_result"
    }
   ],
   "source": [
    "model = LogisticRegression()\n",
    "model.fit(X_train, Y_train)\n",
    "Y_pred = model.predict(X_test)\n",
    "model.score(X_test, Y_test)"
   ]
  },
  {
   "cell_type": "code",
   "execution_count": 68,
   "metadata": {},
   "outputs": [
    {
     "data": {
      "text/plain": [
       "0.6591895803183792"
      ]
     },
     "execution_count": 68,
     "metadata": {},
     "output_type": "execute_result"
    }
   ],
   "source": [
    "model = RandomForestClassifier()\n",
    "model.fit(X_train, Y_train)\n",
    "Y_pred = model.predict(X_test)\n",
    "model.score(X_test, Y_test)\n"
   ]
  },
  {
   "cell_type": "code",
   "execution_count": 69,
   "metadata": {},
   "outputs": [
    {
     "data": {
      "text/plain": [
       "0.6642547033285094"
      ]
     },
     "execution_count": 69,
     "metadata": {},
     "output_type": "execute_result"
    }
   ],
   "source": [
    "model = SVC()\n",
    "model.fit(X_train, Y_train)\n",
    "Y_pred = model.predict(X_test)\n",
    "model.score(X_test, Y_test)"
   ]
  },
  {
   "cell_type": "code",
   "execution_count": 70,
   "metadata": {},
   "outputs": [
    {
     "data": {
      "text/plain": [
       "0.6548480463096961"
      ]
     },
     "execution_count": 70,
     "metadata": {},
     "output_type": "execute_result"
    }
   ],
   "source": [
    "model = GradientBoostingClassifier()\n",
    "model.fit(X_train, Y_train)\n",
    "Y_pred = model.predict(X_test)\n",
    "model.score(X_test, Y_test)"
   ]
  },
  {
   "cell_type": "code",
   "execution_count": 9,
   "metadata": {},
   "outputs": [
    {
     "name": "stdout",
     "output_type": "stream",
     "text": [
      "Predicted winner: Ilia Topuria. 54.22526146454033%% chance of winning\n",
      "Predicted winner: Tom Aspinall. 72.72213636874444%% chance of winning\n"
     ]
    }
   ],
   "source": [
    "fightsDF = pd.read_csv(\"fightStats.csv\")\n",
    "fightersDF = pd.read_csv(\"fighterStats.csv\")\n",
    "columns = [\"Reach (inches) Differential\",\n",
    "           \"Height (inches) Differential\",\n",
    "           \"Significant Strikes Landed per Minute Differential\",\n",
    "           \"Significant Striking Accuracy Differential\",\n",
    "           \"Significant Strikes Absorbed per Minute Differential\",\n",
    "           \"Significant Strike Defence (the percentage of opponents strikes that did not land) Differential\",\n",
    "           \"Average Takedowns Landed per 15 minutes Differential\",\n",
    "           \"Takedown Accuracy Differential\",\n",
    "           \"Takedown Defense (the percentage of opponents TD attempts that did not land) Differential\",\n",
    "           \"Average Submissions Attempted per 15 minutes\"\n",
    "           ]\n",
    "df = pd.DataFrame(columns=columns)\n",
    "def predictor(fighter1, fighter2):\n",
    "\n",
    "    redReach = fightersDF.loc[fightersDF[\"Name\"] == fighter1, \"Reach (inches)\"].values[0]\n",
    "    blueReach = fightersDF.loc[fightersDF[\"Name\"] == fighter2, \"Reach (inches)\"].values[0]\n",
    "    reachDifference = redReach - blueReach\n",
    "\n",
    "    redHeight = fightersDF.loc[fightersDF[\"Name\"] == fighter1, \"Height (inches)\"].values[0]\n",
    "    blueHeight = fightersDF.loc[fightersDF[\"Name\"] == fighter2, \"Height (inches)\"].values[0]\n",
    "    heightDifference = redHeight - blueHeight\n",
    "\n",
    "    redSSPerMin = fightersDF.loc[fightersDF[\"Name\"] == fighter1, \"Significant Strikes Landed per Minute\"].values[0]\n",
    "    blueSSPerMin = fightersDF.loc[fightersDF[\"Name\"] == fighter2, \"Significant Strikes Landed per Minute\"].values[0]\n",
    "    ssPerMinDifference = redSSPerMin - blueSSPerMin\n",
    "\n",
    "    redSSAcc = fightersDF.loc[fightersDF[\"Name\"] == fighter1, \"Significant Striking Accuracy\"].values[0]\n",
    "    blueSSAcc = fightersDF.loc[fightersDF[\"Name\"] == fighter2, \"Significant Striking Accuracy\"].values[0]\n",
    "    ssAccDifference = redSSAcc - blueSSAcc\n",
    "\n",
    "    redSSAbs = fightersDF.loc[fightersDF[\"Name\"] == fighter1, \"Significant Strikes Absorbed per Minute\"].values[0]\n",
    "    blueSSAbs = fightersDF.loc[fightersDF[\"Name\"] == fighter2, \"Significant Strikes Absorbed per Minute\"].values[0]\n",
    "    ssAbsDifference = redSSAbs - blueSSAbs\n",
    "\n",
    "    redSSDef = fightersDF.loc[fightersDF[\"Name\"] == fighter1, \"Significant Strike Defence (the percentage of opponents strikes that did not land)\"].values[0]\n",
    "    blueSSDef = fightersDF.loc[fightersDF[\"Name\"] == fighter2, \"Significant Strike Defence (the percentage of opponents strikes that did not land)\"].values[0]\n",
    "    ssDefDifference = redSSDef - blueSSDef\n",
    "\n",
    "    redAvgTD = fightersDF.loc[fightersDF[\"Name\"] == fighter1, \"Average Takedowns Landed per 15 minutes\"].values[0]\n",
    "    blueAvgTD = fightersDF.loc[fightersDF[\"Name\"] == fighter2, \"Average Takedowns Landed per 15 minutes\"].values[0]\n",
    "    avgTDDifference = redAvgTD - blueAvgTD\n",
    "\n",
    "    redTDAcc = fightersDF.loc[fightersDF[\"Name\"] == fighter1, \"Takedown Accuracy\"].values[0]\n",
    "    blueTDAcc = fightersDF.loc[fightersDF[\"Name\"] == fighter2, \"Takedown Accuracy\"].values[0]\n",
    "    tdAccDifference = redTDAcc - blueTDAcc\n",
    "\n",
    "    redTDDef = fightersDF.loc[fightersDF[\"Name\"] == fighter1, \"Takedown Defense (the percentage of opponents TD attempts that did not land)\"].values[0]\n",
    "    blueTDDef = fightersDF.loc[fightersDF[\"Name\"] == fighter2, \"Takedown Defense (the percentage of opponents TD attempts that did not land)\"].values[0]\n",
    "    tdDefDifference = redTDDef - blueTDDef\n",
    "\n",
    "    redAvgSub = fightersDF.loc[fightersDF[\"Name\"] == fighter1, \"Average Submissions Attempted per 15 minutes\"].values[0]\n",
    "    blueAvgSub = fightersDF.loc[fightersDF[\"Name\"] == fighter2, \"Average Submissions Attempted per 15 minutes\"].values[0]\n",
    "    avgSubDifference = redAvgSub - blueAvgSub\n",
    "\n",
    "    row = [reachDifference, heightDifference, ssPerMinDifference, ssAccDifference, ssAbsDifference,\n",
    "           ssDefDifference, avgTDDifference, tdAccDifference, tdDefDifference, avgSubDifference]\n",
    "    \n",
    "    rowDF = pd.DataFrame([row], columns=columns)\n",
    "    probWin = model.predict_proba(rowDF)[0][1]*100\n",
    "    probLoss = model.predict_proba(rowDF)[0][0]*100\n",
    "    prediction = model.predict(rowDF)\n",
    "    if prediction == 0:\n",
    "        print(\"Predicted winner: \" + fighter2 + \". \" + str(probLoss) + \"%% chance of winning\")\n",
    "    else:\n",
    "        print(\"Predicted winner: \" + fighter1 + \". \" + str(probWin) + \"%% chance of winning\")\n",
    "\n",
    "    \n",
    "    \n",
    "\n",
    "predictor(\"Ilia Topuria\", \"Islam Makhachev\")\n",
    "predictor(\"Jon Jones\", \"Tom Aspinall\")"
   ]
  }
 ],
 "metadata": {
  "kernelspec": {
   "display_name": "Python 3",
   "language": "python",
   "name": "python3"
  },
  "language_info": {
   "codemirror_mode": {
    "name": "ipython",
    "version": 3
   },
   "file_extension": ".py",
   "mimetype": "text/x-python",
   "name": "python",
   "nbconvert_exporter": "python",
   "pygments_lexer": "ipython3",
   "version": "3.10.12"
  }
 },
 "nbformat": 4,
 "nbformat_minor": 2
}
